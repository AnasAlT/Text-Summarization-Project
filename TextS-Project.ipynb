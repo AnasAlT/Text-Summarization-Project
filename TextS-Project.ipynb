{
 "cells": [
  {
   "cell_type": "code",
   "execution_count": 1,
   "id": "c7edff10-66cc-4941-901d-12c21624830d",
   "metadata": {},
   "outputs": [
    {
     "name": "stderr",
     "output_type": "stream",
     "text": [
      "Global seed set to 42\n"
     ]
    }
   ],
   "source": [
    "import numpy as np\n",
    "import pandas as pd\n",
    "from sklearn.model_selection import train_test_split\n",
    "from simplet5 import SimpleT5\n",
    "from transformers import T5Tokenizer, T5ForConditionalGeneration"
   ]
  },
  {
   "cell_type": "code",
   "execution_count": 2,
   "id": "6369df73-0051-425e-8a85-88482bd11241",
   "metadata": {},
   "outputs": [],
   "source": [
    "# Load the dataset\n",
    "file_path = r'input\\news-summary\\news_summary.csv'  # Use 'r' before the string to indicate a raw string\n",
    "df = pd.read_csv(file_path, encoding='latin-1', usecols=['headlines', 'text'])"
   ]
  },
  {
   "cell_type": "code",
   "execution_count": 3,
   "id": "d893590f-4c76-4c18-9dc1-9f5b7d6cd5c0",
   "metadata": {},
   "outputs": [
    {
     "data": {
      "text/html": [
       "<div>\n",
       "<style scoped>\n",
       "    .dataframe tbody tr th:only-of-type {\n",
       "        vertical-align: middle;\n",
       "    }\n",
       "\n",
       "    .dataframe tbody tr th {\n",
       "        vertical-align: top;\n",
       "    }\n",
       "\n",
       "    .dataframe thead th {\n",
       "        text-align: right;\n",
       "    }\n",
       "</style>\n",
       "<table border=\"1\" class=\"dataframe\">\n",
       "  <thead>\n",
       "    <tr style=\"text-align: right;\">\n",
       "      <th></th>\n",
       "      <th>headlines</th>\n",
       "      <th>text</th>\n",
       "    </tr>\n",
       "  </thead>\n",
       "  <tbody>\n",
       "    <tr>\n",
       "      <th>0</th>\n",
       "      <td>Daman &amp; Diu revokes mandatory Rakshabandhan in...</td>\n",
       "      <td>The Administration of Union Territory Daman an...</td>\n",
       "    </tr>\n",
       "    <tr>\n",
       "      <th>1</th>\n",
       "      <td>Malaika slams user who trolled her for 'divorc...</td>\n",
       "      <td>Malaika Arora slammed an Instagram user who tr...</td>\n",
       "    </tr>\n",
       "    <tr>\n",
       "      <th>2</th>\n",
       "      <td>'Virgin' now corrected to 'Unmarried' in IGIMS...</td>\n",
       "      <td>The Indira Gandhi Institute of Medical Science...</td>\n",
       "    </tr>\n",
       "    <tr>\n",
       "      <th>3</th>\n",
       "      <td>Aaj aapne pakad liya: LeT man Dujana before be...</td>\n",
       "      <td>Lashkar-e-Taiba's Kashmir commander Abu Dujana...</td>\n",
       "    </tr>\n",
       "    <tr>\n",
       "      <th>4</th>\n",
       "      <td>Hotel staff to get training to spot signs of s...</td>\n",
       "      <td>Hotels in Maharashtra will train their staff t...</td>\n",
       "    </tr>\n",
       "  </tbody>\n",
       "</table>\n",
       "</div>"
      ],
      "text/plain": [
       "                                           headlines  \\\n",
       "0  Daman & Diu revokes mandatory Rakshabandhan in...   \n",
       "1  Malaika slams user who trolled her for 'divorc...   \n",
       "2  'Virgin' now corrected to 'Unmarried' in IGIMS...   \n",
       "3  Aaj aapne pakad liya: LeT man Dujana before be...   \n",
       "4  Hotel staff to get training to spot signs of s...   \n",
       "\n",
       "                                                text  \n",
       "0  The Administration of Union Territory Daman an...  \n",
       "1  Malaika Arora slammed an Instagram user who tr...  \n",
       "2  The Indira Gandhi Institute of Medical Science...  \n",
       "3  Lashkar-e-Taiba's Kashmir commander Abu Dujana...  \n",
       "4  Hotels in Maharashtra will train their staff t...  "
      ]
     },
     "execution_count": 3,
     "metadata": {},
     "output_type": "execute_result"
    }
   ],
   "source": [
    "df.head()"
   ]
  },
  {
   "cell_type": "code",
   "execution_count": 4,
   "id": "b9c7b9da-52c7-4d12-aa8a-788e4a724273",
   "metadata": {},
   "outputs": [],
   "source": [
    "# simpleT5 expects dataframe to have 2 columns: \"source_text\" and \"target_text\"\n",
    "df = df.rename(columns={\"headlines\":\"target_text\", \"text\":\"source_text\"})\n",
    "df = df[['source_text', 'target_text']]"
   ]
  },
  {
   "cell_type": "code",
   "execution_count": 5,
   "id": "c0d072c9-a5d0-42fd-8e00-3a0eafeb3718",
   "metadata": {},
   "outputs": [
    {
     "data": {
      "text/html": [
       "<div>\n",
       "<style scoped>\n",
       "    .dataframe tbody tr th:only-of-type {\n",
       "        vertical-align: middle;\n",
       "    }\n",
       "\n",
       "    .dataframe tbody tr th {\n",
       "        vertical-align: top;\n",
       "    }\n",
       "\n",
       "    .dataframe thead th {\n",
       "        text-align: right;\n",
       "    }\n",
       "</style>\n",
       "<table border=\"1\" class=\"dataframe\">\n",
       "  <thead>\n",
       "    <tr style=\"text-align: right;\">\n",
       "      <th></th>\n",
       "      <th>source_text</th>\n",
       "      <th>target_text</th>\n",
       "    </tr>\n",
       "  </thead>\n",
       "  <tbody>\n",
       "    <tr>\n",
       "      <th>0</th>\n",
       "      <td>The Administration of Union Territory Daman an...</td>\n",
       "      <td>Daman &amp; Diu revokes mandatory Rakshabandhan in...</td>\n",
       "    </tr>\n",
       "    <tr>\n",
       "      <th>1</th>\n",
       "      <td>Malaika Arora slammed an Instagram user who tr...</td>\n",
       "      <td>Malaika slams user who trolled her for 'divorc...</td>\n",
       "    </tr>\n",
       "    <tr>\n",
       "      <th>2</th>\n",
       "      <td>The Indira Gandhi Institute of Medical Science...</td>\n",
       "      <td>'Virgin' now corrected to 'Unmarried' in IGIMS...</td>\n",
       "    </tr>\n",
       "    <tr>\n",
       "      <th>3</th>\n",
       "      <td>Lashkar-e-Taiba's Kashmir commander Abu Dujana...</td>\n",
       "      <td>Aaj aapne pakad liya: LeT man Dujana before be...</td>\n",
       "    </tr>\n",
       "    <tr>\n",
       "      <th>4</th>\n",
       "      <td>Hotels in Maharashtra will train their staff t...</td>\n",
       "      <td>Hotel staff to get training to spot signs of s...</td>\n",
       "    </tr>\n",
       "  </tbody>\n",
       "</table>\n",
       "</div>"
      ],
      "text/plain": [
       "                                         source_text  \\\n",
       "0  The Administration of Union Territory Daman an...   \n",
       "1  Malaika Arora slammed an Instagram user who tr...   \n",
       "2  The Indira Gandhi Institute of Medical Science...   \n",
       "3  Lashkar-e-Taiba's Kashmir commander Abu Dujana...   \n",
       "4  Hotels in Maharashtra will train their staff t...   \n",
       "\n",
       "                                         target_text  \n",
       "0  Daman & Diu revokes mandatory Rakshabandhan in...  \n",
       "1  Malaika slams user who trolled her for 'divorc...  \n",
       "2  'Virgin' now corrected to 'Unmarried' in IGIMS...  \n",
       "3  Aaj aapne pakad liya: LeT man Dujana before be...  \n",
       "4  Hotel staff to get training to spot signs of s...  "
      ]
     },
     "execution_count": 5,
     "metadata": {},
     "output_type": "execute_result"
    }
   ],
   "source": [
    "df.head()"
   ]
  },
  {
   "cell_type": "code",
   "execution_count": 6,
   "id": "b6aebc77-4f2d-4a14-8501-371e0e7dc4a0",
   "metadata": {},
   "outputs": [
    {
     "data": {
      "text/html": [
       "<div>\n",
       "<style scoped>\n",
       "    .dataframe tbody tr th:only-of-type {\n",
       "        vertical-align: middle;\n",
       "    }\n",
       "\n",
       "    .dataframe tbody tr th {\n",
       "        vertical-align: top;\n",
       "    }\n",
       "\n",
       "    .dataframe thead th {\n",
       "        text-align: right;\n",
       "    }\n",
       "</style>\n",
       "<table border=\"1\" class=\"dataframe\">\n",
       "  <thead>\n",
       "    <tr style=\"text-align: right;\">\n",
       "      <th></th>\n",
       "      <th>source_text</th>\n",
       "      <th>target_text</th>\n",
       "    </tr>\n",
       "  </thead>\n",
       "  <tbody>\n",
       "    <tr>\n",
       "      <th>0</th>\n",
       "      <td>summarize: The Administration of Union Territo...</td>\n",
       "      <td>Daman &amp; Diu revokes mandatory Rakshabandhan in...</td>\n",
       "    </tr>\n",
       "    <tr>\n",
       "      <th>1</th>\n",
       "      <td>summarize: Malaika Arora slammed an Instagram ...</td>\n",
       "      <td>Malaika slams user who trolled her for 'divorc...</td>\n",
       "    </tr>\n",
       "    <tr>\n",
       "      <th>2</th>\n",
       "      <td>summarize: The Indira Gandhi Institute of Medi...</td>\n",
       "      <td>'Virgin' now corrected to 'Unmarried' in IGIMS...</td>\n",
       "    </tr>\n",
       "    <tr>\n",
       "      <th>3</th>\n",
       "      <td>summarize: Lashkar-e-Taiba's Kashmir commander...</td>\n",
       "      <td>Aaj aapne pakad liya: LeT man Dujana before be...</td>\n",
       "    </tr>\n",
       "    <tr>\n",
       "      <th>4</th>\n",
       "      <td>summarize: Hotels in Maharashtra will train th...</td>\n",
       "      <td>Hotel staff to get training to spot signs of s...</td>\n",
       "    </tr>\n",
       "    <tr>\n",
       "      <th>...</th>\n",
       "      <td>...</td>\n",
       "      <td>...</td>\n",
       "    </tr>\n",
       "    <tr>\n",
       "      <th>4509</th>\n",
       "      <td>summarize: Fruit juice concentrate maker Rasna...</td>\n",
       "      <td>Rasna seeking ?250 cr revenue from snack categ...</td>\n",
       "    </tr>\n",
       "    <tr>\n",
       "      <th>4510</th>\n",
       "      <td>summarize: Former Indian cricketer Sachin Tend...</td>\n",
       "      <td>Sachin attends Rajya Sabha after questions on ...</td>\n",
       "    </tr>\n",
       "    <tr>\n",
       "      <th>4511</th>\n",
       "      <td>summarize: Aamir Khan, while talking about rea...</td>\n",
       "      <td>Shouldn't rob their childhood: Aamir on kids r...</td>\n",
       "    </tr>\n",
       "    <tr>\n",
       "      <th>4512</th>\n",
       "      <td>summarize: The Maharashtra government has init...</td>\n",
       "      <td>Asha Bhosle gets ?53,000 power bill for unused...</td>\n",
       "    </tr>\n",
       "    <tr>\n",
       "      <th>4513</th>\n",
       "      <td>summarize: At least 400 languages or more than...</td>\n",
       "      <td>More than half of India's languages may die in...</td>\n",
       "    </tr>\n",
       "  </tbody>\n",
       "</table>\n",
       "<p>4514 rows × 2 columns</p>\n",
       "</div>"
      ],
      "text/plain": [
       "                                            source_text  \\\n",
       "0     summarize: The Administration of Union Territo...   \n",
       "1     summarize: Malaika Arora slammed an Instagram ...   \n",
       "2     summarize: The Indira Gandhi Institute of Medi...   \n",
       "3     summarize: Lashkar-e-Taiba's Kashmir commander...   \n",
       "4     summarize: Hotels in Maharashtra will train th...   \n",
       "...                                                 ...   \n",
       "4509  summarize: Fruit juice concentrate maker Rasna...   \n",
       "4510  summarize: Former Indian cricketer Sachin Tend...   \n",
       "4511  summarize: Aamir Khan, while talking about rea...   \n",
       "4512  summarize: The Maharashtra government has init...   \n",
       "4513  summarize: At least 400 languages or more than...   \n",
       "\n",
       "                                            target_text  \n",
       "0     Daman & Diu revokes mandatory Rakshabandhan in...  \n",
       "1     Malaika slams user who trolled her for 'divorc...  \n",
       "2     'Virgin' now corrected to 'Unmarried' in IGIMS...  \n",
       "3     Aaj aapne pakad liya: LeT man Dujana before be...  \n",
       "4     Hotel staff to get training to spot signs of s...  \n",
       "...                                                 ...  \n",
       "4509  Rasna seeking ?250 cr revenue from snack categ...  \n",
       "4510  Sachin attends Rajya Sabha after questions on ...  \n",
       "4511  Shouldn't rob their childhood: Aamir on kids r...  \n",
       "4512  Asha Bhosle gets ?53,000 power bill for unused...  \n",
       "4513  More than half of India's languages may die in...  \n",
       "\n",
       "[4514 rows x 2 columns]"
      ]
     },
     "execution_count": 6,
     "metadata": {},
     "output_type": "execute_result"
    }
   ],
   "source": [
    "# T5 model expects a task related prefix: since it is a summarization task, we will add a prefix \"summarize: \"\n",
    "df['source_text'] = \"summarize: \" + df['source_text']\n",
    "df"
   ]
  },
  {
   "cell_type": "code",
   "execution_count": 7,
   "id": "44240573-b92a-429a-a869-15de08c2aac4",
   "metadata": {},
   "outputs": [
    {
     "data": {
      "text/plain": [
       "((3159, 2), (1355, 2))"
      ]
     },
     "execution_count": 7,
     "metadata": {},
     "output_type": "execute_result"
    }
   ],
   "source": [
    "train_df, test_df = train_test_split(df, test_size=0.3)\n",
    "train_df.shape, test_df.shape"
   ]
  },
  {
   "cell_type": "code",
   "execution_count": 8,
   "id": "0a8027c9-b00b-4f36-8f74-c26916dec042",
   "metadata": {},
   "outputs": [],
   "source": [
    "from simplet5 import SimpleT5\n",
    "\n",
    "model = SimpleT5()\n",
    "model.from_pretrained(model_type=\"t5\", model_name=\"t5-base\")"
   ]
  },
  {
   "cell_type": "code",
   "execution_count": 9,
   "id": "1494206b-2baa-4089-b16e-cdc93ecd6969",
   "metadata": {},
   "outputs": [
    {
     "name": "stderr",
     "output_type": "stream",
     "text": [
      "GPU available: False, used: False\n",
      "TPU available: False, using: 0 TPU cores\n",
      "IPU available: False, using: 0 IPUs\n",
      "\n",
      "  | Name  | Type                       | Params\n",
      "-----------------------------------------------------\n",
      "0 | model | T5ForConditionalGeneration | 222 M \n",
      "-----------------------------------------------------\n",
      "222 M     Trainable params\n",
      "0         Non-trainable params\n",
      "222 M     Total params\n",
      "891.614   Total estimated model params size (MB)\n"
     ]
    },
    {
     "data": {
      "application/vnd.jupyter.widget-view+json": {
       "model_id": "",
       "version_major": 2,
       "version_minor": 0
      },
      "text/plain": [
       "Validation sanity check: 0it [00:00, ?it/s]"
      ]
     },
     "metadata": {},
     "output_type": "display_data"
    },
    {
     "name": "stderr",
     "output_type": "stream",
     "text": [
      "c:\\users\\asura\\appdata\\local\\programs\\python\\python39\\lib\\site-packages\\pytorch_lightning\\trainer\\data_loading.py:132: UserWarning: The dataloader, val_dataloader 0, does not have many workers which may be a bottleneck. Consider increasing the value of the `num_workers` argument` (try 16 which is the number of cpus on this machine) in the `DataLoader` init to improve performance.\n",
      "  rank_zero_warn(\n",
      "Global seed set to 42\n",
      "c:\\users\\asura\\appdata\\local\\programs\\python\\python39\\lib\\site-packages\\pytorch_lightning\\trainer\\data_loading.py:132: UserWarning: The dataloader, train_dataloader, does not have many workers which may be a bottleneck. Consider increasing the value of the `num_workers` argument` (try 16 which is the number of cpus on this machine) in the `DataLoader` init to improve performance.\n",
      "  rank_zero_warn(\n"
     ]
    },
    {
     "data": {
      "application/vnd.jupyter.widget-view+json": {
       "model_id": "575b851345f041f4bde664717dffc8be",
       "version_major": 2,
       "version_minor": 0
      },
      "text/plain": [
       "Training: 0it [00:00, ?it/s]"
      ]
     },
     "metadata": {},
     "output_type": "display_data"
    },
    {
     "name": "stderr",
     "output_type": "stream",
     "text": [
      "c:\\users\\asura\\appdata\\local\\programs\\python\\python39\\lib\\site-packages\\pytorch_lightning\\trainer\\trainer.py:688: UserWarning: Detected KeyboardInterrupt, attempting graceful shutdown...\n",
      "  rank_zero_warn(\"Detected KeyboardInterrupt, attempting graceful shutdown...\")\n",
      "Exception ignored in: <function _MultiProcessingDataLoaderIter.__del__ at 0x0000025956BA58B0>\n",
      "Traceback (most recent call last):\n",
      "  File \"c:\\users\\asura\\appdata\\local\\programs\\python\\python39\\lib\\site-packages\\torch\\utils\\data\\dataloader.py\", line 1478, in __del__\n",
      "    self._shutdown_workers()\n",
      "  File \"c:\\users\\asura\\appdata\\local\\programs\\python\\python39\\lib\\site-packages\\torch\\utils\\data\\dataloader.py\", line 1436, in _shutdown_workers\n",
      "    if self._persistent_workers or self._workers_status[worker_id]:\n",
      "AttributeError: '_MultiProcessingDataLoaderIter' object has no attribute '_workers_status'\n"
     ]
    }
   ],
   "source": [
    "model.train(train_df=train_df[:5000],\n",
    "            eval_df=test_df[:100], \n",
    "            source_max_token_len=128, \n",
    "            target_max_token_len=50, \n",
    "            batch_size=8, max_epochs=5, use_gpu=False)"
   ]
  },
  {
   "cell_type": "code",
   "execution_count": 10,
   "id": "71e786ba-9111-42ad-8a3e-8a3a189bd7c0",
   "metadata": {},
   "outputs": [],
   "source": [
    "model.load_model(\"t5\", \"outputs\\simplet5-epoch-4-train-loss-0.6131-val-loss-1.4665\", use_gpu=False)"
   ]
  },
  {
   "cell_type": "code",
   "execution_count": 11,
   "id": "af7a7483-0316-4c07-bce4-df729eb137c4",
   "metadata": {},
   "outputs": [
    {
     "data": {
      "text/plain": [
       "['Python is a high-level, general-purpose programming language']"
      ]
     },
     "execution_count": 11,
     "metadata": {},
     "output_type": "execute_result"
    }
   ],
   "source": [
    "text_to_summarize=\"\"\"Python is a high-level, general-purpose programming language. Its design philosophy emphasizes code readability with the use of significant indentation.\n",
    "\n",
    "Python is dynamically typed and garbage-collected. It supports multiple programming paradigms, including structured, particularly procedural, object-oriented, and functional programming. It is often described as a \"batteries included\" language due to its comprehensive standard library.\n",
    "\n",
    "Guido van Rossum began working on Python in the late 1980s as a successor to the ABC programming language and first released it in 1991 as Python. Python was released in 2000. Python, released in 2008, was a major revision not completely backward-compatible with earlier versions. Python, released in 2020, was the last release of Python.\n",
    "\n",
    "Python consistently ranks as one of the most popular programming languages. \"\"\"\n",
    "model.predict(text_to_summarize)"
   ]
  },
  {
   "cell_type": "code",
   "execution_count": 12,
   "id": "6bbb9c26-6b63-4d58-b68a-5dca6cb56fe2",
   "metadata": {},
   "outputs": [
    {
     "name": "stdout",
     "output_type": "stream",
     "text": [
      "artificial neural networks are the answer to making computers more human like. they are based on the neural structure of the brain. it is natural proof that some problems beyond the scope of current computers are indeed solvable by small energy efficient packages. the exact workings of the human brain are still a mystery. but some aspects of this amazing processor are known. the most basic element of the human brain is a specific type of cell. neurons can connect with up to 200,000 other neurons. each of these neurons can connect with up to 200,000 other neurons. layers are made up of a number of interconnected ‘nodes’ which contain an ‘activation function’. the more data can be thrown at a neural network, the more accurate it will become. the more data can be thrown at a neural network, the more accurate it will become. e learn from experience in our lives. the ANN is taught what to look for and what its output should be. the simplest variant is the feed-forward neural network. recurrent neural networks are popular today, especially in image recognition. deep learning algorithms save the output of processing nodes and feed the result back into the model. a teacher shows the network a bunch of faces, and the teacher already knows the name associated with each face. the network makes its guesses, then the teacher provides the answers. unsupervised learning required when there isn't an example data set with known answers. imagine searching for a hidden pattern in a data set with known answers. ing A strategy built on observation. think of a little mouse running through a maze. if it turns left, it gets a piece of cheese; if it turns right, it receives a little shock. the neural network makes a decision with an outcome (turn left or right) and observes its environment (yum or ouch). reinforcement learning is common in robotics. at time t, the robot performs a task and observes the results. we’ll look at reinforcement learning in the context of our simulated steering vehicles.\n"
     ]
    }
   ],
   "source": [
    "# Initialize the T5 tokenizer and model\n",
    "tokenizer = T5Tokenizer.from_pretrained(\"t5-small\")\n",
    "model = T5ForConditionalGeneration.from_pretrained(\"t5-small\")\n",
    "\n",
    "# Define the input text\n",
    "input_text = \"\"\"\n",
    "... Inspired by the structure of the brain, artificial neural networks (ANN) are the answer to making computers more human like and help machines reason more like humans.\n",
    "\n",
    "They are based on the neural structure of the brain. The brain basically learns from experience. It is natural proof that some problems that are beyond the scope of current computers are indeed solvable by small energy efficient packages.\n",
    "\n",
    "Human Neurons:\n",
    "To understand how artificial neural networks work let’s first briefly look at the human ones. The exact workings of the human brain are still a mystery. Yet, some aspects of this amazing processor are known. In particular, the most basic element of the human brain is a specific type of cell which, unlike the rest of the body, doesn’t appear to regenerate. Because this type of cell is the only part of the body that isn’t slowly replaced, it is assumed that these cells are what provides us with our abilities to remember, think, and apply previous experiences to our every action. These cells, all 100 billion of them, are known as neurons. Each of these neurons can connect with up to 200,000 other neurons, although 1,000 to 10,000 is typical.\n",
    "\n",
    "Neural networks are typically organized in layers. Layers are made up of a number of interconnected ‘nodes’ which contain an ‘activation function’. Patterns are presented to the network via the ‘input layer’, which communicates to one or more ‘hidden layers’ where the actual processing is done via a system of weighted ‘connections’. \n",
    "In the same way that we learn from experience in our lives as mentioned above, neural networks require data to learn. In most cases, the more data that can be thrown at a neural network, the more accurate it will become. Think of it like any task you do over and over. Over time, you gradually get more efficient and make fewer mistakes.\n",
    "\n",
    "When researchers or computer scientists set out to train a neural network, they typically divide their data into three sets. First is a training set, which helps the network establish the various weights between its nodes. After this, they fine-tune it using a validation data set. Finally, they’ll use a test set to see if it can successfully turn the input into the desired output.\n",
    "\n",
    "During the training and supervisory stage, the ANN is taught what to look for and what its output should be, using Yes/No question types with binary numbers.\n",
    "\n",
    "\n",
    "The simplest variant is the feed-forward neural network. This type of artificial neural network algorithm passes information straight through from input to processing nodes to outputs. It may or may not have hidden node layers, making their functioning more interpretable.\n",
    "\n",
    "More complex are recurrent neural networks. These deep learning algorithms save the output of processing nodes and feed the result back into the model. This is how the model is said to learn.\n",
    "\n",
    "Convolutional neural networks are popular today, particularly in the realm of image recognition. This specific type of neural network algorithm has been used in many of the most advanced applications of AI including facial recognition, text digitization and natural language processing.\n",
    "\n",
    "There are several strategies for learning, such as:\n",
    "Supervised Learning\n",
    "Essentially, a strategy that involves a teacher that is smarter than the network itself. For example, let’s take the facial recognition example. The teacher shows the network a bunch of faces, and the teacher already knows the name associated with each face. The network makes its guesses, then the teacher provides the network with the answers. The network can then compare its answers to the known “correct” ones and make adjustments according to its errors.\n",
    "\n",
    "Unsupervised Learning\n",
    "Required when there isn’t an example data set with known answers. Imagine searching for a hidden pattern in a data set. An application of this is clustering, i.e. dividing a set of elements into groups according to some unknown pattern. We won’t be looking at any examples of unsupervised learning in this chapter, as this strategy is less relevant for our examples.\n",
    "\n",
    "Reinforcement Learning\n",
    "A strategy built on observation. Think of a little mouse running through a maze. If it turns left, it gets a piece of cheese; if it turns right, it receives a little shock. (Don’t worry, this is just a pretend mouse.) Presumably, the mouse will learn over time to turn left. Its neural network makes a decision with an outcome (turn left or right) and observes its environment (yum or ouch). If the observation is negative, the network can adjust its weights in order to make a different decision the next time. Reinforcement learning is common in robotics. At time t, the robot performs a task and observes the results. Did it crash into a wall or fall off a table? Or is it unharmed? We’ll look at reinforcement learning in the context of our simulated steering vehicles.) ...\n",
    "\"\"\"\n",
    "\n",
    "# Split the input text into smaller segments (max_seq_length tokens each)\n",
    "max_seq_length = 512  # Maximum sequence length supported by the model\n",
    "input_segments = [input_text[i:i+max_seq_length] for i in range(0, len(input_text), max_seq_length)]\n",
    "\n",
    "# Initialize an empty list to store the generated summaries\n",
    "summaries = []\n",
    "\n",
    "# Generate summaries for each input segment\n",
    "for segment in input_segments:\n",
    "    input_ids = tokenizer.encode(\"summarize: \" + segment, return_tensors=\"pt\", max_length=max_seq_length, truncation=True)\n",
    "    summary_ids = model.generate(input_ids, max_length=150, min_length=30, num_beams=2, length_penalty=2.0, early_stopping=True)\n",
    "    summary = tokenizer.decode(summary_ids[0], skip_special_tokens=True)\n",
    "    summaries.append(summary)\n",
    "\n",
    "# Join the summaries of the segments into a final summary\n",
    "final_summary = \" \".join(summaries)\n",
    "\n",
    "# Print or use the final summary as needed\n",
    "print(final_summary)\n"
   ]
  },
  {
   "cell_type": "code",
   "execution_count": null,
   "id": "5dd97abb-4e7e-4a1c-9966-fb8e1e31a5e2",
   "metadata": {},
   "outputs": [],
   "source": []
  }
 ],
 "metadata": {
  "kernelspec": {
   "display_name": "Python 3 (ipykernel)",
   "language": "python",
   "name": "python3"
  },
  "language_info": {
   "codemirror_mode": {
    "name": "ipython",
    "version": 3
   },
   "file_extension": ".py",
   "mimetype": "text/x-python",
   "name": "python",
   "nbconvert_exporter": "python",
   "pygments_lexer": "ipython3",
   "version": "3.9.0"
  }
 },
 "nbformat": 4,
 "nbformat_minor": 5
}
